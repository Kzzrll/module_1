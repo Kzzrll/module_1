{
 "cells": [
  {
   "cell_type": "code",
   "execution_count": 1,
   "metadata": {
    "_cell_guid": "b1076dfc-b9ad-4769-8c92-a6c4dae69d19",
    "_uuid": "8f2839f25d086af736a60e9eeb907d3b93b6e0e5",
    "colab": {},
    "colab_type": "code",
    "id": "U2D2gTdJVp90"
   },
   "outputs": [],
   "source": [
    "import numpy as np\n",
    "import pandas as pd\n",
    "import seaborn as sns\n",
    "import matplotlib.pyplot as plt\n",
    "from collections import Counter"
   ]
  },
  {
   "cell_type": "code",
   "execution_count": 2,
   "metadata": {
    "_cell_guid": "79c7e3d0-c299-4dcb-8224-4455121ee9b0",
    "_uuid": "d629ff2d2480ee46fbb7e2d37f6b5fab8052498a",
    "colab": {},
    "colab_type": "code",
    "id": "oyGfxL3eVp9-"
   },
   "outputs": [
    {
     "data": {
      "text/html": [
       "<div>\n",
       "<style scoped>\n",
       "    .dataframe tbody tr th:only-of-type {\n",
       "        vertical-align: middle;\n",
       "    }\n",
       "\n",
       "    .dataframe tbody tr th {\n",
       "        vertical-align: top;\n",
       "    }\n",
       "\n",
       "    .dataframe thead th {\n",
       "        text-align: right;\n",
       "    }\n",
       "</style>\n",
       "<table border=\"1\" class=\"dataframe\">\n",
       "  <thead>\n",
       "    <tr style=\"text-align: right;\">\n",
       "      <th></th>\n",
       "      <th>imdb_id</th>\n",
       "      <th>budget</th>\n",
       "      <th>revenue</th>\n",
       "      <th>original_title</th>\n",
       "      <th>cast</th>\n",
       "      <th>director</th>\n",
       "      <th>tagline</th>\n",
       "      <th>overview</th>\n",
       "      <th>runtime</th>\n",
       "      <th>genres</th>\n",
       "      <th>production_companies</th>\n",
       "      <th>release_date</th>\n",
       "      <th>vote_average</th>\n",
       "      <th>release_year</th>\n",
       "    </tr>\n",
       "  </thead>\n",
       "  <tbody>\n",
       "    <tr>\n",
       "      <th>1554</th>\n",
       "      <td>tt0417433</td>\n",
       "      <td>26000000</td>\n",
       "      <td>17496992</td>\n",
       "      <td>Annapolis</td>\n",
       "      <td>James Franco|Donnie Wahlberg|Jim Parrack|Tyres...</td>\n",
       "      <td>Justin Lin</td>\n",
       "      <td>50,000 Apply. 1,200 Are Accepted. Only The Bes...</td>\n",
       "      <td>Jake Huard, from a shipbuilders family, promis...</td>\n",
       "      <td>108</td>\n",
       "      <td>Drama</td>\n",
       "      <td>Touchstone Pictures</td>\n",
       "      <td>1/27/2006</td>\n",
       "      <td>5.8</td>\n",
       "      <td>2006</td>\n",
       "    </tr>\n",
       "    <tr>\n",
       "      <th>94</th>\n",
       "      <td>tt2473510</td>\n",
       "      <td>10000000</td>\n",
       "      <td>78099553</td>\n",
       "      <td>Paranormal Activity: The Ghost Dimension</td>\n",
       "      <td>Chris J. Murray|Brit Shaw|Ivy George|Lauren Fr...</td>\n",
       "      <td>Gregory Plotkin</td>\n",
       "      <td>You can't save them. All you can do is watch.</td>\n",
       "      <td>Using a special camera that can see spirits, a...</td>\n",
       "      <td>88</td>\n",
       "      <td>Horror|Thriller</td>\n",
       "      <td>Paramount Pictures|Blumhouse Productions</td>\n",
       "      <td>10/21/2015</td>\n",
       "      <td>5.0</td>\n",
       "      <td>2015</td>\n",
       "    </tr>\n",
       "    <tr>\n",
       "      <th>466</th>\n",
       "      <td>tt1287468</td>\n",
       "      <td>85000000</td>\n",
       "      <td>112483764</td>\n",
       "      <td>Cats &amp; Dogs 2 : The Revenge of Kitty Galore</td>\n",
       "      <td>James Marsden|Nick Nolte|Christina Applegate|B...</td>\n",
       "      <td>Brad Peyton</td>\n",
       "      <td>Just like real spies... only furrier.</td>\n",
       "      <td>The ongoing war between the canine and feline ...</td>\n",
       "      <td>82</td>\n",
       "      <td>Comedy|Family</td>\n",
       "      <td>Village Roadshow Pictures</td>\n",
       "      <td>7/30/2010</td>\n",
       "      <td>5.0</td>\n",
       "      <td>2010</td>\n",
       "    </tr>\n",
       "    <tr>\n",
       "      <th>1655</th>\n",
       "      <td>tt0338512</td>\n",
       "      <td>74500000</td>\n",
       "      <td>62172050</td>\n",
       "      <td>Deux frÃ¨res</td>\n",
       "      <td>MaÃ¯ Anh Le|Guy Pearce|Oanh Nguyen|Jaran 'See ...</td>\n",
       "      <td>Jean-Jacques Annaud</td>\n",
       "      <td>Two infant tiger cubs, separated from their pa...</td>\n",
       "      <td>Two tigers are separated as cubs and taken int...</td>\n",
       "      <td>109</td>\n",
       "      <td>Adventure|Drama|Family</td>\n",
       "      <td>PathÃ© Renn Productions|TF1 Films Production|C...</td>\n",
       "      <td>4/7/2004</td>\n",
       "      <td>6.8</td>\n",
       "      <td>2004</td>\n",
       "    </tr>\n",
       "    <tr>\n",
       "      <th>712</th>\n",
       "      <td>tt0490181</td>\n",
       "      <td>8000000</td>\n",
       "      <td>2033165</td>\n",
       "      <td>Mutant Chronicles</td>\n",
       "      <td>Ron Perlman|Thomas Jane|Devon Aoki|Sean Pertwe...</td>\n",
       "      <td>Simon Hunter</td>\n",
       "      <td>Welcome to the 23rd century.  The new dark ages.</td>\n",
       "      <td>It's the year 2707. Earth's natural resources ...</td>\n",
       "      <td>111</td>\n",
       "      <td>Action|Adventure|Horror|Science Fiction</td>\n",
       "      <td>Isle of Man Film|Edward R. Pressman Film|Parad...</td>\n",
       "      <td>8/7/2008</td>\n",
       "      <td>5.1</td>\n",
       "      <td>2008</td>\n",
       "    </tr>\n",
       "  </tbody>\n",
       "</table>\n",
       "</div>"
      ],
      "text/plain": [
       "        imdb_id    budget    revenue  \\\n",
       "1554  tt0417433  26000000   17496992   \n",
       "94    tt2473510  10000000   78099553   \n",
       "466   tt1287468  85000000  112483764   \n",
       "1655  tt0338512  74500000   62172050   \n",
       "712   tt0490181   8000000    2033165   \n",
       "\n",
       "                                   original_title  \\\n",
       "1554                                    Annapolis   \n",
       "94       Paranormal Activity: The Ghost Dimension   \n",
       "466   Cats & Dogs 2 : The Revenge of Kitty Galore   \n",
       "1655                                 Deux frÃ¨res   \n",
       "712                             Mutant Chronicles   \n",
       "\n",
       "                                                   cast             director  \\\n",
       "1554  James Franco|Donnie Wahlberg|Jim Parrack|Tyres...           Justin Lin   \n",
       "94    Chris J. Murray|Brit Shaw|Ivy George|Lauren Fr...      Gregory Plotkin   \n",
       "466   James Marsden|Nick Nolte|Christina Applegate|B...          Brad Peyton   \n",
       "1655  MaÃ¯ Anh Le|Guy Pearce|Oanh Nguyen|Jaran 'See ...  Jean-Jacques Annaud   \n",
       "712   Ron Perlman|Thomas Jane|Devon Aoki|Sean Pertwe...         Simon Hunter   \n",
       "\n",
       "                                                tagline  \\\n",
       "1554  50,000 Apply. 1,200 Are Accepted. Only The Bes...   \n",
       "94        You can't save them. All you can do is watch.   \n",
       "466               Just like real spies... only furrier.   \n",
       "1655  Two infant tiger cubs, separated from their pa...   \n",
       "712    Welcome to the 23rd century.  The new dark ages.   \n",
       "\n",
       "                                               overview  runtime  \\\n",
       "1554  Jake Huard, from a shipbuilders family, promis...      108   \n",
       "94    Using a special camera that can see spirits, a...       88   \n",
       "466   The ongoing war between the canine and feline ...       82   \n",
       "1655  Two tigers are separated as cubs and taken int...      109   \n",
       "712   It's the year 2707. Earth's natural resources ...      111   \n",
       "\n",
       "                                       genres  \\\n",
       "1554                                    Drama   \n",
       "94                            Horror|Thriller   \n",
       "466                             Comedy|Family   \n",
       "1655                   Adventure|Drama|Family   \n",
       "712   Action|Adventure|Horror|Science Fiction   \n",
       "\n",
       "                                   production_companies release_date  \\\n",
       "1554                                Touchstone Pictures    1/27/2006   \n",
       "94             Paramount Pictures|Blumhouse Productions   10/21/2015   \n",
       "466                           Village Roadshow Pictures    7/30/2010   \n",
       "1655  PathÃ© Renn Productions|TF1 Films Production|C...     4/7/2004   \n",
       "712   Isle of Man Film|Edward R. Pressman Film|Parad...     8/7/2008   \n",
       "\n",
       "      vote_average  release_year  \n",
       "1554           5.8          2006  \n",
       "94             5.0          2015  \n",
       "466            5.0          2010  \n",
       "1655           6.8          2004  \n",
       "712            5.1          2008  "
      ]
     },
     "execution_count": 2,
     "metadata": {},
     "output_type": "execute_result"
    }
   ],
   "source": [
    "data = pd.read_csv('movie_bd_v5.csv')\n",
    "data.sample(5)"
   ]
  },
  {
   "cell_type": "code",
   "execution_count": 3,
   "metadata": {
    "colab": {},
    "colab_type": "code",
    "id": "CoYUnagMVp-C"
   },
   "outputs": [
    {
     "data": {
      "text/html": [
       "<div>\n",
       "<style scoped>\n",
       "    .dataframe tbody tr th:only-of-type {\n",
       "        vertical-align: middle;\n",
       "    }\n",
       "\n",
       "    .dataframe tbody tr th {\n",
       "        vertical-align: top;\n",
       "    }\n",
       "\n",
       "    .dataframe thead th {\n",
       "        text-align: right;\n",
       "    }\n",
       "</style>\n",
       "<table border=\"1\" class=\"dataframe\">\n",
       "  <thead>\n",
       "    <tr style=\"text-align: right;\">\n",
       "      <th></th>\n",
       "      <th>budget</th>\n",
       "      <th>revenue</th>\n",
       "      <th>runtime</th>\n",
       "      <th>vote_average</th>\n",
       "      <th>release_year</th>\n",
       "    </tr>\n",
       "  </thead>\n",
       "  <tbody>\n",
       "    <tr>\n",
       "      <th>count</th>\n",
       "      <td>1.889000e+03</td>\n",
       "      <td>1.889000e+03</td>\n",
       "      <td>1889.000000</td>\n",
       "      <td>1889.000000</td>\n",
       "      <td>1889.000000</td>\n",
       "    </tr>\n",
       "    <tr>\n",
       "      <th>mean</th>\n",
       "      <td>5.431083e+07</td>\n",
       "      <td>1.553653e+08</td>\n",
       "      <td>109.658549</td>\n",
       "      <td>6.140762</td>\n",
       "      <td>2007.860773</td>\n",
       "    </tr>\n",
       "    <tr>\n",
       "      <th>std</th>\n",
       "      <td>4.858721e+07</td>\n",
       "      <td>2.146698e+08</td>\n",
       "      <td>18.017041</td>\n",
       "      <td>0.764763</td>\n",
       "      <td>4.468841</td>\n",
       "    </tr>\n",
       "    <tr>\n",
       "      <th>min</th>\n",
       "      <td>5.000000e+06</td>\n",
       "      <td>2.033165e+06</td>\n",
       "      <td>63.000000</td>\n",
       "      <td>3.300000</td>\n",
       "      <td>2000.000000</td>\n",
       "    </tr>\n",
       "    <tr>\n",
       "      <th>25%</th>\n",
       "      <td>2.000000e+07</td>\n",
       "      <td>3.456058e+07</td>\n",
       "      <td>97.000000</td>\n",
       "      <td>5.600000</td>\n",
       "      <td>2004.000000</td>\n",
       "    </tr>\n",
       "    <tr>\n",
       "      <th>50%</th>\n",
       "      <td>3.800000e+07</td>\n",
       "      <td>8.361541e+07</td>\n",
       "      <td>107.000000</td>\n",
       "      <td>6.100000</td>\n",
       "      <td>2008.000000</td>\n",
       "    </tr>\n",
       "    <tr>\n",
       "      <th>75%</th>\n",
       "      <td>7.200000e+07</td>\n",
       "      <td>1.782626e+08</td>\n",
       "      <td>120.000000</td>\n",
       "      <td>6.600000</td>\n",
       "      <td>2012.000000</td>\n",
       "    </tr>\n",
       "    <tr>\n",
       "      <th>max</th>\n",
       "      <td>3.800000e+08</td>\n",
       "      <td>2.781506e+09</td>\n",
       "      <td>214.000000</td>\n",
       "      <td>8.100000</td>\n",
       "      <td>2015.000000</td>\n",
       "    </tr>\n",
       "  </tbody>\n",
       "</table>\n",
       "</div>"
      ],
      "text/plain": [
       "             budget       revenue      runtime  vote_average  release_year\n",
       "count  1.889000e+03  1.889000e+03  1889.000000   1889.000000   1889.000000\n",
       "mean   5.431083e+07  1.553653e+08   109.658549      6.140762   2007.860773\n",
       "std    4.858721e+07  2.146698e+08    18.017041      0.764763      4.468841\n",
       "min    5.000000e+06  2.033165e+06    63.000000      3.300000   2000.000000\n",
       "25%    2.000000e+07  3.456058e+07    97.000000      5.600000   2004.000000\n",
       "50%    3.800000e+07  8.361541e+07   107.000000      6.100000   2008.000000\n",
       "75%    7.200000e+07  1.782626e+08   120.000000      6.600000   2012.000000\n",
       "max    3.800000e+08  2.781506e+09   214.000000      8.100000   2015.000000"
      ]
     },
     "execution_count": 3,
     "metadata": {},
     "output_type": "execute_result"
    }
   ],
   "source": [
    "data.describe()"
   ]
  },
  {
   "cell_type": "markdown",
   "metadata": {
    "colab_type": "text",
    "id": "DTIt7ezGVp-G"
   },
   "source": [
    "# Предобработка"
   ]
  },
  {
   "cell_type": "code",
   "execution_count": 4,
   "metadata": {
    "colab": {},
    "colab_type": "code",
    "id": "jNb40DwKVp-H"
   },
   "outputs": [],
   "source": [
    "answers = {} # создадим словарь для ответов\n",
    "\n",
    "# тут другие ваши предобработки колонок например:\n",
    "\n",
    "#the time given in the dataset is in string format.\n",
    "#So we need to change this in datetime format\n",
    "# ..."
   ]
  },
  {
   "cell_type": "markdown",
   "metadata": {
    "colab_type": "text",
    "id": "YxZaH-nPVp-L"
   },
   "source": [
    "# 1. У какого фильма из списка самый большой бюджет?"
   ]
  },
  {
   "cell_type": "markdown",
   "metadata": {
    "colab_type": "text",
    "id": "Nd-G5gX6Vp-M"
   },
   "source": [
    "Использовать варианты ответов в коде решения запрещено.    \n",
    "Вы думаете и в жизни у вас будут варианты ответов?)"
   ]
  },
  {
   "cell_type": "code",
   "execution_count": 5,
   "metadata": {
    "colab": {},
    "colab_type": "code",
    "id": "uVnXAY5RVp-O"
   },
   "outputs": [],
   "source": [
    "# в словарь вставляем номер вопроса и ваш ответ на него\n",
    "# Пример: \n",
    "answers['1'] = '2. Spider-Man 3 (tt0413300)'\n",
    "# запишите свой вариант ответа\n",
    "answers['1'] = 'Pirates of the Caribbean: On Stranger Tides' #  \"+\"\n",
    "# если ответили верно, можете добавить комментарий со значком \"+\""
   ]
  },
  {
   "cell_type": "code",
   "execution_count": 6,
   "metadata": {
    "colab": {},
    "colab_type": "code",
    "id": "dZwb3m28Vp-S"
   },
   "outputs": [
    {
     "name": "stdout",
     "output_type": "stream",
     "text": [
      "original_title\n",
      "Pirates of the Caribbean: On Stranger Tides    380000000\n",
      "Pirates of the Caribbean: At World's End       300000000\n",
      "Avengers: Age of Ultron                        280000000\n",
      "Tangled                                        260000000\n",
      "John Carter                                    260000000\n",
      "Spider-Man 3                                   258000000\n",
      "The Lone Ranger                                255000000\n",
      "The Dark Knight Rises                          250000000\n",
      "X-Men: Days of Future Past                     250000000\n",
      "Harry Potter and the Half-Blood Prince         250000000\n",
      "Name: budget, dtype: int64\n"
     ]
    }
   ],
   "source": [
    "# тут пишем ваш код для решения данного вопроса:\n",
    "grouped_data1 = data.groupby(['original_title'])['budget'].max().sort_values(ascending=False)\n",
    "print(grouped_data1.head(10))"
   ]
  },
  {
   "cell_type": "markdown",
   "metadata": {
    "colab_type": "text",
    "id": "FNRbbI3vVp-c"
   },
   "source": [
    "# 2. Какой из фильмов самый длительный (в минутах)?"
   ]
  },
  {
   "cell_type": "code",
   "execution_count": 7,
   "metadata": {
    "colab": {},
    "colab_type": "code",
    "id": "vHAoEXNTVp-d"
   },
   "outputs": [],
   "source": [
    "# думаю логику работы с этим словарем вы уже поняли, \n",
    "# по этому не буду больше его дублировать\n",
    "answers['2'] = 'Gods and Generals'#  \"+\""
   ]
  },
  {
   "cell_type": "code",
   "execution_count": 8,
   "metadata": {
    "colab": {},
    "colab_type": "code",
    "id": "ot-VX2XrVp-g"
   },
   "outputs": [
    {
     "name": "stdout",
     "output_type": "stream",
     "text": [
      "original_title\n",
      "Gods and Generals                                    214\n",
      "The Lord of the Rings: The Return of the King        201\n",
      "Grindhouse                                           191\n",
      "King Kong                                            187\n",
      "Pearl Harbor                                         183\n",
      "The Wolf of Wall Street                              180\n",
      "The Lord of the Rings: The Two Towers                179\n",
      "The Lord of the Rings: The Fellowship of the Ring    178\n",
      "Alexander                                            175\n",
      "Cloud Atlas                                          172\n",
      "Name: runtime, dtype: int64\n"
     ]
    }
   ],
   "source": [
    "grouped_data2 = data.groupby(['original_title'])['runtime'].max().sort_values(ascending=False)\n",
    "print(grouped_data2.head(10))"
   ]
  },
  {
   "cell_type": "markdown",
   "metadata": {
    "colab_type": "text",
    "id": "bapLlpW8Vp-k"
   },
   "source": [
    "# 3. Какой из фильмов самый короткий (в минутах)?\n",
    "\n",
    "\n",
    "\n"
   ]
  },
  {
   "cell_type": "code",
   "execution_count": null,
   "metadata": {},
   "outputs": [],
   "source": [
    "answers['3'] = 'Winnie the Pooh'#  \"+\""
   ]
  },
  {
   "cell_type": "code",
   "execution_count": 9,
   "metadata": {
    "colab": {},
    "colab_type": "code",
    "id": "YBxaSHuAVp-l"
   },
   "outputs": [
    {
     "name": "stdout",
     "output_type": "stream",
     "text": [
      "original_title\n",
      "Winnie the Pooh             63\n",
      "Return to Never Land        72\n",
      "The Jungle Book 2           72\n",
      "Home on the Range           76\n",
      "Valiant                     76\n",
      "Corpse Bride                77\n",
      "Stuart Little 2             78\n",
      "The Emperor's New Groove    78\n",
      "9                           79\n",
      "Yogi Bear                   80\n",
      "Name: runtime, dtype: int64\n"
     ]
    }
   ],
   "source": [
    "grouped_data3 = data.groupby(['original_title'])['runtime'].min().sort_values(ascending=True)\n",
    "print(grouped_data3.head(10))"
   ]
  },
  {
   "cell_type": "markdown",
   "metadata": {
    "colab_type": "text",
    "id": "TfQbxbfNVp-p"
   },
   "source": [
    "# 4. Какова средняя длительность фильмов?\n"
   ]
  },
  {
   "cell_type": "code",
   "execution_count": null,
   "metadata": {},
   "outputs": [],
   "source": [
    "answers['4'] = '110'#  \"+\""
   ]
  },
  {
   "cell_type": "code",
   "execution_count": 10,
   "metadata": {
    "colab": {},
    "colab_type": "code",
    "id": "5K6dKZYVVp-q"
   },
   "outputs": [
    {
     "data": {
      "text/plain": [
       "109.6585494970884"
      ]
     },
     "execution_count": 10,
     "metadata": {},
     "output_type": "execute_result"
    }
   ],
   "source": [
    "data['runtime'].mean()"
   ]
  },
  {
   "cell_type": "markdown",
   "metadata": {
    "colab_type": "text",
    "id": "r5TvbnT_Vp-u"
   },
   "source": [
    "# 5. Каково медианное значение длительности фильмов? "
   ]
  },
  {
   "cell_type": "code",
   "execution_count": null,
   "metadata": {},
   "outputs": [],
   "source": [
    "answers['5'] = '107'#  \"+\""
   ]
  },
  {
   "cell_type": "code",
   "execution_count": 11,
   "metadata": {
    "colab": {},
    "colab_type": "code",
    "id": "iBROplKnVp-v"
   },
   "outputs": [
    {
     "data": {
      "text/plain": [
       "107.0"
      ]
     },
     "execution_count": 11,
     "metadata": {},
     "output_type": "execute_result"
    }
   ],
   "source": [
    "data['runtime'].median()"
   ]
  },
  {
   "cell_type": "markdown",
   "metadata": {
    "colab_type": "text",
    "id": "39P-deDSVp-y"
   },
   "source": [
    "### 6. Какой самый прибыльный фильм?\n",
    "#### Внимание! Здесь и далее под «прибылью» или «убытками» понимается разность между сборами и бюджетом фильма. (прибыль = сборы - бюджет) в нашем датасете это будет (profit = revenue - budget) \n"
   ]
  },
  {
   "cell_type": "code",
   "execution_count": null,
   "metadata": {},
   "outputs": [],
   "source": [
    "answers['6'] = 'Avatar'#  \"+\""
   ]
  },
  {
   "cell_type": "code",
   "execution_count": 12,
   "metadata": {
    "colab": {},
    "colab_type": "code",
    "id": "UYZh4T9WVp-y",
    "scrolled": true
   },
   "outputs": [
    {
     "name": "stdout",
     "output_type": "stream",
     "text": [
      "original_title\n",
      "Avatar                                           2544505847\n",
      "Star Wars: The Force Awakens                     1868178225\n",
      "Jurassic World                                   1363528810\n",
      "Furious 7                                        1316249360\n",
      "The Avengers                                     1299557910\n",
      "Harry Potter and the Deathly Hallows: Part 2     1202817822\n",
      "Avengers: Age of Ultron                          1125035767\n",
      "Frozen                                           1124219009\n",
      "Minions                                          1082730962\n",
      "The Lord of the Rings: The Return of the King    1024888979\n",
      "Name: profit, dtype: int64\n"
     ]
    }
   ],
   "source": [
    "# лучше код получения столбца profit вынести в Предобработку что в начале\n",
    "\n",
    "data['profit']=data['revenue'] - data['budget']\n",
    "grouped_data6 = data.groupby(['original_title'])[('profit')].max().sort_values(ascending=False)\n",
    "print(grouped_data6.head(10))\n"
   ]
  },
  {
   "cell_type": "markdown",
   "metadata": {
    "colab_type": "text",
    "id": "M99JmIX4Vp-2"
   },
   "source": [
    "# 7. Какой фильм самый убыточный? "
   ]
  },
  {
   "cell_type": "code",
   "execution_count": null,
   "metadata": {},
   "outputs": [],
   "source": [
    "answers['7'] = 'The Lone Ranger'#  \"+\""
   ]
  },
  {
   "cell_type": "code",
   "execution_count": 13,
   "metadata": {
    "colab": {},
    "colab_type": "code",
    "id": "w-D2m4XPVp-3"
   },
   "outputs": [
    {
     "name": "stdout",
     "output_type": "stream",
     "text": [
      "original_title\n",
      "The Lone Ranger                -165710090\n",
      "The Alamo                      -119180039\n",
      "Mars Needs Moms                -111007242\n",
      "The Adventures of Pluto Nash    -92896027\n",
      "Flushed Away                    -84540684\n",
      "Australia                       -80445998\n",
      "Supernova                       -75171919\n",
      "A Sound of Thunder              -74010360\n",
      "Awake                           -71626175\n",
      "How Do You Know                 -71331093\n",
      "Name: profit, dtype: int64\n"
     ]
    }
   ],
   "source": [
    "grouped_data7 = data.groupby(['original_title'])[('profit')].min().sort_values(ascending=True)\n",
    "print(grouped_data7.head(10))\n"
   ]
  },
  {
   "cell_type": "markdown",
   "metadata": {
    "colab_type": "text",
    "id": "wEOM5ERVVp-6"
   },
   "source": [
    "# 8. У скольких фильмов из датасета объем сборов оказался выше бюджета?"
   ]
  },
  {
   "cell_type": "code",
   "execution_count": null,
   "metadata": {},
   "outputs": [],
   "source": [
    "answers['8'] = '1478'#  \"+\""
   ]
  },
  {
   "cell_type": "code",
   "execution_count": 14,
   "metadata": {
    "colab": {},
    "colab_type": "code",
    "id": "y00_7HD6Vp-7"
   },
   "outputs": [
    {
     "data": {
      "text/plain": [
       "1478"
      ]
     },
     "execution_count": 14,
     "metadata": {},
     "output_type": "execute_result"
    }
   ],
   "source": [
    "len(data[data.profit>0])"
   ]
  },
  {
   "cell_type": "markdown",
   "metadata": {
    "colab_type": "text",
    "id": "xhpspA9KVp_A"
   },
   "source": [
    "# 9. Какой фильм оказался самым кассовым в 2008 году?"
   ]
  },
  {
   "cell_type": "code",
   "execution_count": null,
   "metadata": {},
   "outputs": [],
   "source": [
    "answers['9'] = 'The Dark Knight'#  \"+\""
   ]
  },
  {
   "cell_type": "code",
   "execution_count": 15,
   "metadata": {
    "scrolled": true
   },
   "outputs": [
    {
     "name": "stdout",
     "output_type": "stream",
     "text": [
      "original_title                                      release_year\n",
      "The Dark Knight                                     2008            816921825\n",
      "Indiana Jones and the Kingdom of the Crystal Skull  2008            601636033\n",
      "Mamma Mia!                                          2008            557841637\n",
      "Kung Fu Panda                                       2008            501744560\n",
      "Hancock                                             2008            474029371\n",
      "Madagascar: Escape 2 Africa                         2008            453900354\n",
      "Iron Man                                            2008            445174222\n",
      "Quantum of Solace                                   2008            386090727\n",
      "Slumdog Millionaire                                 2008            362910544\n",
      "Twilight                                            2008            355616625\n",
      "Name: profit, dtype: int64\n"
     ]
    }
   ],
   "source": [
    "grouped_data9=data[data['release_year']==2008]\n",
    "grouped_data10 = grouped_data9.groupby(['original_title','release_year'])[('profit')].max().sort_values(ascending=False)\n",
    "print(grouped_data10.head(10))"
   ]
  },
  {
   "cell_type": "markdown",
   "metadata": {
    "colab_type": "text",
    "id": "Zi4hDKidVp_F"
   },
   "source": [
    "# 10. Самый убыточный фильм за период с 2012 по 2014 г. (включительно)?\n"
   ]
  },
  {
   "cell_type": "code",
   "execution_count": null,
   "metadata": {},
   "outputs": [],
   "source": [
    "answers['10'] = 'The Lone Ranger'#  \"+\""
   ]
  },
  {
   "cell_type": "code",
   "execution_count": 16,
   "metadata": {
    "colab": {},
    "colab_type": "code",
    "id": "XqyRmufJVp_F",
    "scrolled": false
   },
   "outputs": [
    {
     "name": "stdout",
     "output_type": "stream",
     "text": [
      "original_title                   release_year\n",
      "The Lone Ranger                  2013           -165710090\n",
      "R.I.P.D.                         2013            -68351500\n",
      "Legends of Oz: Dorothy's Return  2013            -51337973\n",
      "Bullet to the Head               2013            -45510171\n",
      "Broken City                      2013            -36298836\n",
      "The Interview                    2014            -32694825\n",
      "Winter's Tale                    2014            -29199769\n",
      "Sin City: A Dame to Kill For     2014            -25592384\n",
      "Oldboy                           2013            -25138978\n",
      "47 Ronin                         2013            -24037525\n",
      "Name: profit, dtype: int64\n"
     ]
    },
    {
     "name": "stderr",
     "output_type": "stream",
     "text": [
      "C:\\Users\\DNS\\anaconda3\\lib\\site-packages\\ipykernel_launcher.py:2: UserWarning: Boolean Series key will be reindexed to match DataFrame index.\n",
      "  \n"
     ]
    }
   ],
   "source": [
    "data11=data[(data['release_year'] > 2012)]\n",
    "data12= data11[(data['release_year'] <= 2014)]\n",
    "grouped_data12 = data12.groupby(['original_title','release_year'])[('profit')].min().sort_values(ascending=True)\n",
    "print(grouped_data12.head(10))"
   ]
  },
  {
   "cell_type": "markdown",
   "metadata": {
    "colab_type": "text",
    "id": "EA7Sa9dkVp_I"
   },
   "source": [
    "# 11. Какого жанра фильмов больше всего?"
   ]
  },
  {
   "cell_type": "code",
   "execution_count": null,
   "metadata": {},
   "outputs": [],
   "source": [
    "answers['11'] = 'Comedy'#  \"-\""
   ]
  },
  {
   "cell_type": "code",
   "execution_count": 18,
   "metadata": {
    "colab": {},
    "colab_type": "code",
    "id": "otO3SbrSVp_N",
    "scrolled": true
   },
   "outputs": [
    {
     "data": {
      "text/plain": [
       "Comedy                             141\n",
       "Drama                              102\n",
       "Comedy|Romance                      60\n",
       "Drama|Romance                       45\n",
       "Comedy|Drama|Romance                35\n",
       "                                  ... \n",
       "Family|Drama                         1\n",
       "Thriller|Action|Adventure|Drama      1\n",
       "Drama|Mystery|Crime                  1\n",
       "Drama|Horror|Music                   1\n",
       "Action|History                       1\n",
       "Name: genres, Length: 652, dtype: int64"
      ]
     },
     "metadata": {},
     "output_type": "display_data"
    }
   ],
   "source": [
    "data13 =data['genres'].value_counts()\n",
    "display(data13)"
   ]
  },
  {
   "cell_type": "markdown",
   "metadata": {
    "colab_type": "text",
    "id": "T9_bPWpkVp_Q"
   },
   "source": [
    "# 12. Фильмы какого жанра чаще всего становятся прибыльными? "
   ]
  },
  {
   "cell_type": "code",
   "execution_count": null,
   "metadata": {},
   "outputs": [],
   "source": [
    "answers['12'] = 'Comedy'#  \"+\""
   ]
  },
  {
   "cell_type": "code",
   "execution_count": 19,
   "metadata": {
    "colab": {},
    "colab_type": "code",
    "id": "Tmt8MaK1Vp_R"
   },
   "outputs": [
    {
     "data": {
      "text/plain": [
       "Comedy                                             121\n",
       "Drama                                               70\n",
       "Comedy|Romance                                      52\n",
       "Drama|Romance                                       38\n",
       "Horror|Thriller                                     31\n",
       "                                                  ... \n",
       "Action|Family|Science Fiction|Adventure|Mystery      1\n",
       "Horror|Drama|Thriller|Mystery                        1\n",
       "Science Fiction|Horror|Thriller                      1\n",
       "Animation|Family|Adventure|Comedy|Fantasy            1\n",
       "Action|History                                       1\n",
       "Name: genres, Length: 548, dtype: int64"
      ]
     },
     "metadata": {},
     "output_type": "display_data"
    }
   ],
   "source": [
    "data14=data[data.profit>0]\n",
    "data15 = data14['genres'].value_counts()\n",
    "display(data15)"
   ]
  },
  {
   "cell_type": "markdown",
   "metadata": {
    "colab_type": "text",
    "id": "0F23bgsDVp_U"
   },
   "source": [
    "# 13. У какого режиссера самые большие суммарные кассовые сбооры?"
   ]
  },
  {
   "cell_type": "code",
   "execution_count": null,
   "metadata": {},
   "outputs": [],
   "source": [
    "answers['13'] = 'James Cameron'#  \"+\""
   ]
  },
  {
   "cell_type": "code",
   "execution_count": 67,
   "metadata": {
    "scrolled": true
   },
   "outputs": [
    {
     "name": "stdout",
     "output_type": "stream",
     "text": [
      "director\n",
      "James Cameron               2781505847\n",
      "J.J. Abrams                 2068178225\n",
      "Joss Whedon                 1519557910\n",
      "Colin Trevorrow             1513528810\n",
      "James Wan                   1506249360\n",
      "David Yates                 1327817822\n",
      "Chris Buck|Jennifer Lee     1274219009\n",
      "Shane Black                 1215439994\n",
      "Kyle Balda|Pierre Coffin    1156730962\n",
      "Michael Bay                 1123746996\n",
      "Name: revenue, dtype: int64\n"
     ]
    }
   ],
   "source": [
    "data166 = data.groupby(['director'])[('revenue')].max().sort_values(ascending=False)\n",
    "print(data166.head(10))"
   ]
  },
  {
   "cell_type": "markdown",
   "metadata": {
    "colab_type": "text",
    "id": "PsYC9FgRVp_a"
   },
   "source": [
    "# 14. Какой режисер снял больше всего фильмов в стиле Action?"
   ]
  },
  {
   "cell_type": "code",
   "execution_count": null,
   "metadata": {},
   "outputs": [],
   "source": [
    "answers['14'] = 'Rob Cohen'"
   ]
  },
  {
   "cell_type": "code",
   "execution_count": 73,
   "metadata": {
    "colab": {},
    "colab_type": "code",
    "id": "wd2M-wHeVp_b",
    "scrolled": false
   },
   "outputs": [
    {
     "name": "stdout",
     "output_type": "stream",
     "text": [
      "Rob Cohen                2\n",
      "Marcus Nispel            1\n",
      "Robert Rodriguez         1\n",
      "Sydney Pollack           1\n",
      "Andrew Davis             1\n",
      "John Moore               1\n",
      "Rob Bowman               1\n",
      "Christopher McQuarrie    1\n",
      "Andy Tennant             1\n",
      "Kevin Macdonald          1\n",
      "Joseph Kahn              1\n",
      "Ridley Scott             1\n",
      "Paul McGuigan            1\n",
      "Renny Harlin             1\n",
      "Harald Zwart             1\n",
      "Name: director, dtype: int64\n"
     ]
    }
   ],
   "source": [
    "data18=data[data['genres']=='Action']\n",
    "data19 = data18['director'].value_counts()\n",
    "print(data19.head(30))"
   ]
  },
  {
   "cell_type": "markdown",
   "metadata": {
    "colab_type": "text",
    "id": "PQ0KciD7Vp_f"
   },
   "source": [
    "# 15. Фильмы с каким актером принесли самые высокие кассовые сборы в 2012 году? "
   ]
  },
  {
   "cell_type": "code",
   "execution_count": null,
   "metadata": {},
   "outputs": [],
   "source": [
    "answers['15'] = 'Chris Hemsworth'"
   ]
  },
  {
   "cell_type": "code",
   "execution_count": 34,
   "metadata": {},
   "outputs": [
    {
     "name": "stdout",
     "output_type": "stream",
     "text": [
      "cast\n",
      "Robert Downey Jr.|Chris Evans|Mark Ruffalo|Chris Hemsworth|Scarlett Johansson       1299557910\n",
      "Daniel Craig|Judi Dench|Javier Bardem|Ralph Fiennes|Naomie Harris                    908561013\n",
      "Christian Bale|Michael Caine|Gary Oldman|Anne Hathaway|Tom Hardy                     831041287\n",
      "John Leguizamo|Ray Romano|Chris Wedge|Denis Leary|Seann William Scott                782244782\n",
      "Ian McKellen|Martin Freeman|Richard Armitage|Andy Serkis|Cate Blanchett              767003568\n",
      "Kristen Stewart|Robert Pattinson|Taylor Lautner|Peter Facinelli|Elizabeth Reaser     709000000\n",
      "Jennifer Lawrence|Josh Hutcherson|Liam Hemsworth|Woody Harrelson|Elizabeth Banks     616210692\n",
      "Ben Stiller|Sacha Baron Cohen|David Schwimmer|Frances McDormand|Chris Rock           601921274\n",
      "Andrew Garfield|Emma Stone|Rhys Ifans|Denis Leary|Martin Sheen                       537215857\n",
      "Mark Wahlberg|Mila Kunis|Seth MacFarlane|Joel McHale|Giovanni Ribisi                 499368315\n",
      "Name: profit, dtype: int64\n"
     ]
    }
   ],
   "source": [
    "data200=data[data['release_year']==2012]\n",
    "grouped_data200 = data200.groupby(['cast'])[('profit')].max().sort_values(ascending=False)\n",
    "print(grouped_data200.head(10))"
   ]
  },
  {
   "cell_type": "markdown",
   "metadata": {
    "colab_type": "text",
    "id": "mWHyyL7QVp_j"
   },
   "source": [
    "# 16. Какой актер снялся в большем количестве высокобюджетных фильмов?"
   ]
  },
  {
   "cell_type": "code",
   "execution_count": null,
   "metadata": {},
   "outputs": [],
   "source": [
    "answers['16'] = "
   ]
  },
  {
   "cell_type": "code",
   "execution_count": 93,
   "metadata": {
    "colab": {},
    "colab_type": "code",
    "id": "qQtmHKTFVp_k",
    "scrolled": true
   },
   "outputs": [
    {
     "name": "stdout",
     "output_type": "stream",
     "text": [
      "Elijah Wood|Ian McKellen|Viggo Mortensen|Liv Tyler|Orlando Bloom                         3\n",
      "Jennifer Lawrence|Josh Hutcherson|Liam Hemsworth|Woody Harrelson|Elizabeth Banks         3\n",
      "Martin Freeman|Ian McKellen|Richard Armitage|Ken Stott|Graham McTavish                   2\n",
      "Mike Myers|Eddie Murphy|Cameron Diaz|Julie Andrews|Antonio Banderas                      2\n",
      "Kristen Stewart|Robert Pattinson|Taylor Lautner|Ashley Greene|Peter Facinelli            2\n",
      "Ewan McGregor|Natalie Portman|Hayden Christensen|Ian McDiarmid|Samuel L. Jackson         2\n",
      "Patrick Stewart|Hugh Jackman|Ian McKellen|Halle Berry|Famke Janssen                      2\n",
      "Bradley Cooper|Ed Helms|Zach Galifianakis|Justin Bartha|Ken Jeong                        2\n",
      "Ioan Gruffudd|Jessica Alba|Chris Evans|Michael Chiklis|Julian McMahon                    2\n",
      "Jackie Chan|Jet Li|Michael Angarano|Li Bingbing|Collin Chou                              1\n",
      "Jason Statham|Shu Qi|FranÃ§ois BerlÃ©and|Matt Schulze|Ric Young                          1\n",
      "Bill Nighy|Gregor Fisher|Colin Firth|Sienna Guillory|Liam Neeson                         1\n",
      "Kenny Wormald|Julianne Hough|Dennis Quaid|Andie MacDowell|Miles Teller                   1\n",
      "Tobin Bell|Shawnee Smith|Angus Macfadyen|Bahar Soomekh|Dina Meyer                        1\n",
      "Mark Wahlberg|Michael PeÃ±a|Danny Glover|Kate Mara|Elias Koteas                          1\n",
      "Neil Patrick Harris|Christina Ricci|Katy Perry|Hank Azaria|Brendan Gleeson               1\n",
      "Owen Wilson|Gene Hackman|Gabriel Macht|Charles Malik Whitfield|David Keith               1\n",
      "Kristen Wiig|Rose Byrne|Maya Rudolph|Wendi McLendon-Covey|Ellie Kemper                   1\n",
      "Dwayne Johnson|Josh Hutcherson|Kristin Davis|Vanessa Hudgens|Luis GuzmÃ¡n                1\n",
      "Matthew McConaughey|Sarah Jessica Parker|Zooey Deschanel|Justin Bartha|Bradley Cooper    1\n",
      "Emma Thompson|Tom Hanks|Paul Giamatti|Colin Farrell|Ruth Wilson                          1\n",
      "Jason Clarke|Jake Gyllenhaal|Josh Brolin|John Hawkes|Sam Worthington                     1\n",
      "Colin Farrell|Sam Rockwell|Christopher Walken|Woody Harrelson|Abbie Cornish              1\n",
      "Terrence Howard|Harold Perrineau|Morris Chestnut|Sanaa Lathan|Taye Diggs                 1\n",
      "Johnny Knoxville|Jackson Nicoll|Georgina Cates|Spike Jonze|Catherine Keener              1\n",
      "Daniel Craig|Rooney Mara|Christopher Plummer|Goran Visnjic|Stellan SkarsgÃ¥rd            1\n",
      "Megan Fox|Will Arnett|William Fichtner|Alan Ritchson|Noel Fisher                         1\n",
      "Camilla Belle|Katie Cassidy|Tommy Flanagan|Brian Geraghty|Clark Gregg                    1\n",
      "James Franco|Donnie Wahlberg|Jim Parrack|Tyrese Gibson|Jordana Brewster                  1\n",
      "Taylor Lautner|Taylor Dooley|Cayden Boyd|George Lopez|David Arquette                     1\n",
      "Name: cast, dtype: int64\n"
     ]
    }
   ],
   "source": [
    "data24=(data[data.budget>0])\n",
    "data25 = data24['cast'].value_counts()\n",
    "print(data25.head(30))"
   ]
  },
  {
   "cell_type": "markdown",
   "metadata": {
    "colab_type": "text",
    "id": "NIh6AaW5Vp_n"
   },
   "source": [
    "# 17. В фильмах какого жанра больше всего снимался Nicolas Cage? "
   ]
  },
  {
   "cell_type": "code",
   "execution_count": null,
   "metadata": {},
   "outputs": [],
   "source": [
    "answers['17'] = "
   ]
  },
  {
   "cell_type": "code",
   "execution_count": 99,
   "metadata": {
    "colab": {},
    "colab_type": "code",
    "id": "H74SJDIBVp_n"
   },
   "outputs": [
    {
     "name": "stdout",
     "output_type": "stream",
     "text": [
      "Empty DataFrame\n",
      "Columns: [imdb_id, budget, revenue, original_title, cast, director, tagline, overview, runtime, genres, production_companies, release_date, vote_average, release_year, profit]\n",
      "Index: []\n"
     ]
    }
   ],
   "source": [
    "data111=data[data['cast']=='Nicolas Cage']\n",
    "print(data111.head(10))"
   ]
  },
  {
   "cell_type": "markdown",
   "metadata": {
    "colab_type": "text",
    "id": "RqOmPRfWVp_q"
   },
   "source": [
    "# 18. Самый убыточный фильм от Paramount Pictures"
   ]
  },
  {
   "cell_type": "code",
   "execution_count": null,
   "metadata": {},
   "outputs": [],
   "source": [
    "answers['18'] = 'The Fighter'"
   ]
  },
  {
   "cell_type": "code",
   "execution_count": 101,
   "metadata": {
    "colab": {},
    "colab_type": "code",
    "id": "9E_B0Y96Vp_r"
   },
   "outputs": [
    {
     "name": "stdout",
     "output_type": "stream",
     "text": [
      "original_title                release_year\n",
      "Domestic Disturbance          2001            -20750706\n",
      "The Fighter                   2010            -15809131\n",
      "Serving Sara                  2002            -12069815\n",
      "Last Holiday                  2006             -6600039\n",
      "Bad News Bears                2005              4252847\n",
      "Star Trek: Nemesis            2002              7312826\n",
      "Changing Lanes                2002             49935764\n",
      "Jackass: The Movie            2002             59282312\n",
      "Jackass Number Two            2006             61778712\n",
      "The School of Rock            2003             96282949\n",
      "Mean Girls                    2004            112042871\n",
      "The Dictator                  2012            114379533\n",
      "How to Lose a Guy in 10 Days  2003            127371441\n",
      "Up in the Air                 2009            138670000\n",
      "Name: profit, dtype: int64\n"
     ]
    }
   ],
   "source": [
    "data31=data[data['production_companies']=='Paramount Pictures']\n",
    "data32 = data31.groupby(['original_title','release_year'])[('profit')].min().sort_values(ascending=True)\n",
    "print(data32.head(16))"
   ]
  },
  {
   "cell_type": "markdown",
   "metadata": {
    "colab_type": "text",
    "id": "vS8Ur6ddVp_u"
   },
   "source": [
    "# 19. Какой год стал самым успешным по суммарным кассовым сборам?"
   ]
  },
  {
   "cell_type": "code",
   "execution_count": null,
   "metadata": {},
   "outputs": [],
   "source": [
    "answers['19'] = '2015'"
   ]
  },
  {
   "cell_type": "code",
   "execution_count": 51,
   "metadata": {
    "colab": {},
    "colab_type": "code",
    "id": "Dnbt4GdIVp_v"
   },
   "outputs": [
    {
     "data": {
      "text/plain": [
       "release_year\n",
       "2000    10664099805\n",
       "2001    13017764865\n",
       "2002    14136361487\n",
       "2003    14346123312\n",
       "2004    15663430720\n",
       "2005    15309425558\n",
       "2006    14775042320\n",
       "2007    18162406801\n",
       "2008    18252781990\n",
       "2009    20261791024\n",
       "2010    21071204961\n",
       "2011    22676791872\n",
       "2012    23079001687\n",
       "2013    23213799791\n",
       "2014    23405862953\n",
       "2015    25449202382\n",
       "Name: revenue, dtype: int64"
      ]
     },
     "execution_count": 51,
     "metadata": {},
     "output_type": "execute_result"
    }
   ],
   "source": [
    "data.groupby('release_year')['revenue'].sum()"
   ]
  },
  {
   "cell_type": "markdown",
   "metadata": {
    "colab_type": "text",
    "id": "JAzJh4QAVp_z"
   },
   "source": [
    "# 20. Какой самый прибыльный год для студии Warner Bros?"
   ]
  },
  {
   "cell_type": "code",
   "execution_count": null,
   "metadata": {},
   "outputs": [],
   "source": [
    "answers['20'] = '2012'"
   ]
  },
  {
   "cell_type": "code",
   "execution_count": 100,
   "metadata": {
    "colab": {},
    "colab_type": "code",
    "id": "wgVu02DEVp_0"
   },
   "outputs": [
    {
     "name": "stdout",
     "output_type": "stream",
     "text": [
      "release_year\n",
      "2001     54249294\n",
      "2002    243461087\n",
      "2003    308654390\n",
      "2004    129042871\n",
      "2005     34252847\n",
      "2006    111178673\n",
      "2009    163670000\n",
      "2010      9190869\n",
      "2012    179379533\n",
      "Name: revenue, dtype: int64\n"
     ]
    }
   ],
   "source": [
    "data34=data[data['production_companies']=='Paramount Pictures']\n",
    "data35=data34.groupby('release_year')['revenue'].sum()\n",
    "print(data35.head(16))"
   ]
  },
  {
   "cell_type": "markdown",
   "metadata": {
    "colab_type": "text",
    "id": "8Im1S2HRVp_4"
   },
   "source": [
    "# 21. В каком месяце за все годы суммарно вышло больше всего фильмов?"
   ]
  },
  {
   "cell_type": "code",
   "execution_count": null,
   "metadata": {},
   "outputs": [],
   "source": [
    "answers['21'] = "
   ]
  },
  {
   "cell_type": "code",
   "execution_count": 65,
   "metadata": {
    "colab": {},
    "colab_type": "code",
    "id": "lev6TH7gVp_4"
   },
   "outputs": [
    {
     "data": {
      "text/plain": [
       "release_date\n",
       "1/1/2007                           A Mighty Heart\n",
       "1/1/2013              Movie 43La migliore offerta\n",
       "1/1/2015                                  Taken 3\n",
       "1/10/2008                              27 Dresses\n",
       "1/10/2011                                   Drive\n",
       "                             ...                 \n",
       "9/9/2009                     WhiteoutSorority Row\n",
       "9/9/2010                 Resident Evil: Afterlife\n",
       "9/9/2011                          The Descendants\n",
       "9/9/2012                             Lo imposible\n",
       "9/9/2015     Maze Runner: The Scorch TrialsLegend\n",
       "Name: original_title, Length: 1435, dtype: object"
      ]
     },
     "execution_count": 65,
     "metadata": {},
     "output_type": "execute_result"
    }
   ],
   "source": [
    "data.groupby('release_date')['original_title'].sum()"
   ]
  },
  {
   "cell_type": "markdown",
   "metadata": {
    "colab_type": "text",
    "id": "uAJsZ_NeVp_7"
   },
   "source": [
    "# 22. Сколько суммарно вышло фильмов летом? (за июнь, июль, август)"
   ]
  },
  {
   "cell_type": "code",
   "execution_count": null,
   "metadata": {
    "colab": {},
    "colab_type": "code",
    "id": "Aa-hEREoVp_8"
   },
   "outputs": [],
   "source": []
  },
  {
   "cell_type": "markdown",
   "metadata": {
    "colab_type": "text",
    "id": "G94ppOY1VqAA"
   },
   "source": [
    "# 23. Для какого режиссера зима – самое продуктивное время года? "
   ]
  },
  {
   "cell_type": "code",
   "execution_count": null,
   "metadata": {
    "colab": {},
    "colab_type": "code",
    "id": "RhNTsamuVqAB"
   },
   "outputs": [],
   "source": []
  },
  {
   "cell_type": "markdown",
   "metadata": {
    "colab_type": "text",
    "id": "RBo0JVjVVqAF"
   },
   "source": [
    "# 24. Какая студия дает самые длинные названия своим фильмам по количеству символов?"
   ]
  },
  {
   "cell_type": "code",
   "execution_count": null,
   "metadata": {
    "colab": {},
    "colab_type": "code",
    "id": "QRGS8L0iVqAG"
   },
   "outputs": [],
   "source": []
  },
  {
   "cell_type": "markdown",
   "metadata": {
    "colab_type": "text",
    "id": "9G0hbvR7VqAK"
   },
   "source": [
    "# 25. Описание фильмов какой студии в среднем самые длинные по количеству слов?"
   ]
  },
  {
   "cell_type": "code",
   "execution_count": null,
   "metadata": {
    "colab": {},
    "colab_type": "code",
    "id": "Ge2GsLNxVqAK"
   },
   "outputs": [],
   "source": []
  },
  {
   "cell_type": "markdown",
   "metadata": {
    "colab_type": "text",
    "id": "FJ1AFt90VqAP"
   },
   "source": [
    "# 26. Какие фильмы входят в 1 процент лучших по рейтингу? \n",
    "по vote_average"
   ]
  },
  {
   "cell_type": "code",
   "execution_count": null,
   "metadata": {
    "colab": {},
    "colab_type": "code",
    "id": "8qmJVq4CVqAQ"
   },
   "outputs": [],
   "source": []
  },
  {
   "cell_type": "markdown",
   "metadata": {
    "colab_type": "text",
    "id": "MdXsUXbCVqAV"
   },
   "source": [
    "# 27. Какие актеры чаще всего снимаются в одном фильме вместе?\n"
   ]
  },
  {
   "cell_type": "markdown",
   "metadata": {
    "colab_type": "text",
    "id": "4ymnxEVoVqAW"
   },
   "source": [
    "ВАРИАНТ 2"
   ]
  },
  {
   "cell_type": "markdown",
   "metadata": {
    "colab_type": "text",
    "id": "U0nONFnGVqAX"
   },
   "source": [
    "# Submission"
   ]
  },
  {
   "cell_type": "code",
   "execution_count": null,
   "metadata": {
    "colab": {},
    "colab_type": "code",
    "id": "IfcaRO9-VqAX",
    "outputId": "0f132912-32bb-4196-c98c-abfbc4ad5a5f"
   },
   "outputs": [],
   "source": [
    "# в конце можно посмотреть свои ответы к каждому вопросу\n",
    "answers"
   ]
  },
  {
   "cell_type": "code",
   "execution_count": null,
   "metadata": {
    "colab": {},
    "colab_type": "code",
    "id": "SiRmHPl8VqAd"
   },
   "outputs": [],
   "source": [
    "# и убедиться что ни чего не пропустил)\n",
    "len(answers)"
   ]
  },
  {
   "cell_type": "code",
   "execution_count": null,
   "metadata": {
    "colab": {},
    "colab_type": "code",
    "id": "uCfuTkRbVqAg"
   },
   "outputs": [],
   "source": []
  },
  {
   "cell_type": "code",
   "execution_count": null,
   "metadata": {
    "colab": {},
    "colab_type": "code",
    "id": "Vwx3NrkSVqAl"
   },
   "outputs": [],
   "source": []
  }
 ],
 "metadata": {
  "colab": {
   "name": "Copy of [SF-DST] Movies IMBD v4.1 TEMPLATE.ipynb",
   "provenance": []
  },
  "kernelspec": {
   "display_name": "Python 3",
   "language": "python",
   "name": "python3"
  },
  "language_info": {
   "codemirror_mode": {
    "name": "ipython",
    "version": 3
   },
   "file_extension": ".py",
   "mimetype": "text/x-python",
   "name": "python",
   "nbconvert_exporter": "python",
   "pygments_lexer": "ipython3",
   "version": "3.7.6"
  }
 },
 "nbformat": 4,
 "nbformat_minor": 1
}
